{
 "cells": [
  {
   "cell_type": "markdown",
   "metadata": {
    "collapsed": false,
    "pycharm": {
     "name": "#%% md\n"
    }
   },
   "source": [
    "Hello, and welcome to this walkthrough. Here, you will quickly see the inner workings of the framework.\n",
    "Let us start by importing the necessary libraries."
   ]
  },
  {
   "cell_type": "code",
   "execution_count": null,
   "metadata": {
    "collapsed": false,
    "pycharm": {
     "name": "#%%\n"
    }
   },
   "outputs": [],
   "source": [
    "from Managers.common_functions import *\n",
    "from Managers.encoder_manager import *\n",
    "from Editors import *\n",
    "from Encoders import *\n",
    "from DataPreparators import *\n",
    "from Trainers import *"
   ]
  },
  {
   "cell_type": "markdown",
   "metadata": {
    "collapsed": false,
    "pycharm": {
     "name": "#%% md\n"
    }
   },
   "source": [
    "Here, the goal is to predict the next activity from an incomplete case, by training a LSTM network on the \"helpdesk\" dataset. To do so, the data must be edited, encoded, and processed into pairs of \"prefixes\" (the incomplete cases) and \"suffixes\" (the activity to predict). Here is the content that can be found in the helpdesk database:"
   ]
  },
  {
   "cell_type": "code",
   "execution_count": null,
   "metadata": {
    "collapsed": false,
    "pycharm": {
     "name": "#%%\n"
    }
   },
   "outputs": [
    {
     "data": {
      "text/plain": "    CaseID  ActivityID    CompleteTimestamp\n0  2742737          23  2011-06-01 08:00:00\n1  2742737          25  2011-06-16 20:17:11\n2  2742737          26  2011-06-16 20:17:14\n3  2742737          29  2011-06-16 20:17:16\n4  2742737          30  2011-06-16 20:17:17",
      "text/html": "<div>\n<style scoped>\n    .dataframe tbody tr th:only-of-type {\n        vertical-align: middle;\n    }\n\n    .dataframe tbody tr th {\n        vertical-align: top;\n    }\n\n    .dataframe thead th {\n        text-align: right;\n    }\n</style>\n<table border=\"1\" class=\"dataframe\">\n  <thead>\n    <tr style=\"text-align: right;\">\n      <th></th>\n      <th>CaseID</th>\n      <th>ActivityID</th>\n      <th>CompleteTimestamp</th>\n    </tr>\n  </thead>\n  <tbody>\n    <tr>\n      <th>0</th>\n      <td>2742737</td>\n      <td>23</td>\n      <td>2011-06-01 08:00:00</td>\n    </tr>\n    <tr>\n      <th>1</th>\n      <td>2742737</td>\n      <td>25</td>\n      <td>2011-06-16 20:17:11</td>\n    </tr>\n    <tr>\n      <th>2</th>\n      <td>2742737</td>\n      <td>26</td>\n      <td>2011-06-16 20:17:14</td>\n    </tr>\n    <tr>\n      <th>3</th>\n      <td>2742737</td>\n      <td>29</td>\n      <td>2011-06-16 20:17:16</td>\n    </tr>\n    <tr>\n      <th>4</th>\n      <td>2742737</td>\n      <td>30</td>\n      <td>2011-06-16 20:17:17</td>\n    </tr>\n  </tbody>\n</table>\n</div>"
     },
     "execution_count": 2,
     "metadata": {},
     "output_type": "execute_result"
    }
   ],
   "source": [
    "pd.read_csv(\"../Data/env_permit.csv\", nrows=5)"
   ]
  },
  {
   "cell_type": "markdown",
   "metadata": {
    "collapsed": false,
    "pycharm": {
     "name": "#%% md\n"
    }
   },
   "source": [
    "As we can see, it has three columns: a case id, an activity, and a date. Each column must be encoded to fit inside a neural network."
   ]
  },
  {
   "cell_type": "markdown",
   "metadata": {
    "collapsed": false,
    "pycharm": {
     "name": "#%% md\n"
    }
   },
   "source": [
    "Here are the main parameters for the framework, stored in the \"config.py\" file. From top to bottom:\n",
    "* The path for the input file, here \"helpdesk.csv\",\n",
    "* The name of the folder for the results, stored inside the \"Output\" folder, here \"helpdesk\",\n",
    "* The size of the chunk when reading the input file, i.e. the maximum number of lines to store in the RAM,\n",
    "* The number of processed cases to store in the RAM,\n",
    "* The number of epochs for the neural network,\n",
    "* A boolean to set if the input file has two columns with timestamps tied to the activity (for the start and end date). Here, helpdesk has only the start date,\n",
    "* The indexes of the columns which contains dates. Here, only the third column has dates in it."
   ]
  },
  {
   "cell_type": "code",
   "execution_count": null,
   "metadata": {
    "collapsed": false,
    "pycharm": {
     "name": "#%%\n"
    }
   },
   "outputs": [],
   "source": [
    "input_path = \"../Data/env_permit.csv\"\n",
    "output_name = \"env_permit_online\"\n",
    "input_chunk_size = 50000\n",
    "output_chunk_size = 500\n",
    "batch_size = 32\n",
    "epoch_counter = 5\n",
    "double_timestamps = False\n",
    "dates_ids = [2]"
   ]
  },
  {
   "cell_type": "markdown",
   "metadata": {
    "collapsed": false,
    "pycharm": {
     "name": "#%% md\n"
    }
   },
   "source": [
    "Now that everything is set, we can create the main components of the framework: editors and encoders.\n",
    "\n",
    "Editors edit cases, by adding a step in it (e.g. \"End of State\"). Here, two editors are created:\n",
    "* An editor which creates a \"Start of State\" at the start of each case, named SosForAll,\n",
    "* An editor which creates an \"End of State\" at the end of each case, named EosForAll."
   ]
  },
  {
   "cell_type": "code",
   "execution_count": null,
   "metadata": {
    "collapsed": false,
    "pycharm": {
     "name": "#%%\n"
    }
   },
   "outputs": [],
   "source": [
    "editors = [SosForAll(), EosForAll()]"
   ]
  },
  {
   "cell_type": "markdown",
   "metadata": {
    "collapsed": false,
    "pycharm": {
     "name": "#%% md\n"
    }
   },
   "source": [
    "Editors encodes edited cases, to data that are interpretable by the neural network. Here, three encoders are created:\n",
    "* An encoder which deletes the first column, named DeleteEncoder,\n",
    "* An encoder which convert categorical data from the second column into one-hot vectors, named OneHotEncoder,\n",
    "* An encoder which computes a time difference between two successive dates inside a case, named TimeDifferenceSingleEncoder."
   ]
  },
  {
   "cell_type": "code",
   "execution_count": null,
   "metadata": {
    "collapsed": false,
    "pycharm": {
     "name": "#%%\n"
    }
   },
   "outputs": [],
   "source": [
    "encoders = [DeleteEncoder(0), OneHotEncoder(1, activity=True), TimeDifferenceSingleEncoder(2)]"
   ]
  },
  {
   "cell_type": "markdown",
   "metadata": {
    "collapsed": false,
    "pycharm": {
     "name": "#%% md\n"
    }
   },
   "source": [
    "Now that everything is set, we can create the main components of the framework: editors and encoders.\n",
    "\n",
    "Editors edit cases, by adding a step in it (e.g. \"End of State\"). Here, two editors are created:\n",
    "* An editor which creates a \"Start of State\" at the start of each case, named SosForAll,\n",
    "* An editor which creates an \"End of State\" at the end of each case, named EosForAll."
   ]
  },
  {
   "cell_type": "markdown",
   "metadata": {
    "collapsed": false,
    "pycharm": {
     "name": "#%% md\n"
    }
   },
   "source": [
    "Now that the main components are created, we can assign a manager to them. Those managers will be commanded by an **orchestrator**, which manages the all pre-processing of the data."
   ]
  },
  {
   "cell_type": "code",
   "execution_count": null,
   "metadata": {
    "collapsed": false,
    "pycharm": {
     "name": "#%%\n"
    }
   },
   "outputs": [],
   "source": [
    "editor_manager = EditorManager(editors)\n",
    "encoder_manager = EncoderManager(encoders)"
   ]
  },
  {
   "cell_type": "markdown",
   "metadata": {
    "collapsed": false,
    "pycharm": {
     "name": "#%% md\n"
    }
   },
   "source": [
    "The encoder manager can display the internal parameters of its encoders:"
   ]
  },
  {
   "cell_type": "code",
   "execution_count": null,
   "metadata": {
    "collapsed": false,
    "pycharm": {
     "name": "#%%\n"
    }
   },
   "outputs": [
    {
     "data": {
      "text/plain": "                   Name Properties Input column names  Input column indexes  \\\n0                Delete         []                                        0   \n1                OneHot         []                                        1   \n2  TimeDifferenceSingle        [0]                                        2   \n\n  Output column names Output column indexes  \n0                                            \n1                                            \n2         [Time_diff]                   [0]  ",
      "text/html": "<div>\n<style scoped>\n    .dataframe tbody tr th:only-of-type {\n        vertical-align: middle;\n    }\n\n    .dataframe tbody tr th {\n        vertical-align: top;\n    }\n\n    .dataframe thead th {\n        text-align: right;\n    }\n</style>\n<table border=\"1\" class=\"dataframe\">\n  <thead>\n    <tr style=\"text-align: right;\">\n      <th></th>\n      <th>Name</th>\n      <th>Properties</th>\n      <th>Input column names</th>\n      <th>Input column indexes</th>\n      <th>Output column names</th>\n      <th>Output column indexes</th>\n    </tr>\n  </thead>\n  <tbody>\n    <tr>\n      <th>0</th>\n      <td>Delete</td>\n      <td>[]</td>\n      <td></td>\n      <td>0</td>\n      <td></td>\n      <td></td>\n    </tr>\n    <tr>\n      <th>1</th>\n      <td>OneHot</td>\n      <td>[]</td>\n      <td></td>\n      <td>1</td>\n      <td></td>\n      <td></td>\n    </tr>\n    <tr>\n      <th>2</th>\n      <td>TimeDifferenceSingle</td>\n      <td>[0]</td>\n      <td></td>\n      <td>2</td>\n      <td>[Time_diff]</td>\n      <td>[0]</td>\n    </tr>\n  </tbody>\n</table>\n</div>"
     },
     "execution_count": 7,
     "metadata": {},
     "output_type": "execute_result"
    }
   ],
   "source": [
    "df = encoder_manager.get_all_encoders_description_df()\n",
    "df"
   ]
  },
  {
   "cell_type": "markdown",
   "metadata": {
    "collapsed": false,
    "pycharm": {
     "name": "#%% md\n"
    }
   },
   "source": [
    "As we can see, the encoders have no internal parameters at the moment. However, two encoders need to set parameters to function:\n",
    "* The one-hot encoder needs the list of all activities of the input file,\n",
    "* The date difference encoder needs to get the maximum value of the difference between two consecutive dates inside a case.\n",
    "\n",
    "To get those parameters, the orchestrator, while created, reads the database once, in full."
   ]
  },
  {
   "cell_type": "code",
   "execution_count": null,
   "metadata": {
    "collapsed": false,
    "pycharm": {
     "name": "#%%\n"
    }
   },
   "outputs": [
    {
     "name": "stderr",
     "output_type": "stream",
     "text": [
      "Analyze data: 100%|██████████| 1/1 [00:00<00:00, 27.18it/s]\n"
     ]
    }
   ],
   "source": [
    "orchestrator = build_orchestrator(input_path, output_name, input_chunk_size, encoder_manager, editor_manager, dates_ids, double_timestamps)"
   ]
  },
  {
   "cell_type": "markdown",
   "metadata": {
    "collapsed": false,
    "pycharm": {
     "name": "#%% md\n"
    }
   },
   "source": [
    "While reading the file, the orchestrator gets information about it, which can be seen here:"
   ]
  },
  {
   "cell_type": "code",
   "execution_count": null,
   "metadata": {
    "collapsed": false,
    "pycharm": {
     "name": "#%%\n"
    }
   },
   "outputs": [
    {
     "name": "stdout",
     "output_type": "stream",
     "text": [
      "--------Orchestrator--------\n",
      "Database file name: ../Data/env_permit.csv\n",
      "Ouput folder: env_permit_online\n",
      "Database column names: ['CaseID', 'ActivityID', 'CompleteTimestamp']\n",
      "Indexes of the dates columns: [2]\n",
      "Number of cases: 937\n",
      "Number of chunks: 1\n",
      "Is it a double timestamps file? False\n",
      "Number of activities: 383\n",
      "Maximum length of a case: 97\n",
      "Number of features of the neural network: 384\n",
      "Are there leftovers? True\n",
      "Number of encoders: 3\n",
      "---------------------------\n"
     ]
    }
   ],
   "source": [
    "orchestrator.show_infos()"
   ]
  },
  {
   "cell_type": "markdown",
   "metadata": {
    "collapsed": false,
    "pycharm": {
     "name": "#%% md\n"
    }
   },
   "source": [
    "And, if we check the properties of the encoders, we can see that is has been updated:"
   ]
  },
  {
   "cell_type": "code",
   "execution_count": null,
   "metadata": {
    "collapsed": false,
    "pycharm": {
     "name": "#%%\n"
    }
   },
   "outputs": [
    {
     "data": {
      "text/plain": "                   Name                                         Properties  \\\n0                Delete                                                 []   \n1                OneHot  [EoS, SoS, 1, 10, 100, 101, 102, 103, 104, 105...   \n2  TimeDifferenceSingle                                         [62398463]   \n\n  Input column names  Input column indexes  \\\n0             CaseID                     0   \n1         ActivityID                     1   \n2  CompleteTimestamp                     2   \n\n                                 Output column names Output column indexes  \n0                                                                           \n1  [EoS, SoS, 1, 10, 100, 101, 102, 103, 104, 105...              [0, 382]  \n2                                        [Time_diff]                 [383]  ",
      "text/html": "<div>\n<style scoped>\n    .dataframe tbody tr th:only-of-type {\n        vertical-align: middle;\n    }\n\n    .dataframe tbody tr th {\n        vertical-align: top;\n    }\n\n    .dataframe thead th {\n        text-align: right;\n    }\n</style>\n<table border=\"1\" class=\"dataframe\">\n  <thead>\n    <tr style=\"text-align: right;\">\n      <th></th>\n      <th>Name</th>\n      <th>Properties</th>\n      <th>Input column names</th>\n      <th>Input column indexes</th>\n      <th>Output column names</th>\n      <th>Output column indexes</th>\n    </tr>\n  </thead>\n  <tbody>\n    <tr>\n      <th>0</th>\n      <td>Delete</td>\n      <td>[]</td>\n      <td>CaseID</td>\n      <td>0</td>\n      <td></td>\n      <td></td>\n    </tr>\n    <tr>\n      <th>1</th>\n      <td>OneHot</td>\n      <td>[EoS, SoS, 1, 10, 100, 101, 102, 103, 104, 105...</td>\n      <td>ActivityID</td>\n      <td>1</td>\n      <td>[EoS, SoS, 1, 10, 100, 101, 102, 103, 104, 105...</td>\n      <td>[0, 382]</td>\n    </tr>\n    <tr>\n      <th>2</th>\n      <td>TimeDifferenceSingle</td>\n      <td>[62398463]</td>\n      <td>CompleteTimestamp</td>\n      <td>2</td>\n      <td>[Time_diff]</td>\n      <td>[383]</td>\n    </tr>\n  </tbody>\n</table>\n</div>"
     },
     "execution_count": 10,
     "metadata": {},
     "output_type": "execute_result"
    }
   ],
   "source": [
    "df = encoder_manager.get_all_encoders_description_df()\n",
    "df"
   ]
  },
  {
   "cell_type": "markdown",
   "metadata": {
    "collapsed": false,
    "pycharm": {
     "name": "#%% md\n"
    }
   },
   "source": [
    "Let us now go through the inner workings of the framework. First, the orchestrator breaks the file into cases. Here is the first case of helpdesk:"
   ]
  },
  {
   "cell_type": "code",
   "execution_count": null,
   "metadata": {
    "collapsed": false,
    "pycharm": {
     "name": "#%%\n"
    }
   },
   "outputs": [
    {
     "data": {
      "text/plain": "    CaseID  ActivityID   CompleteTimestamp\n0  2742737          23 2011-06-01 08:00:00\n1  2742737          25 2011-06-16 20:17:11\n2  2742737          26 2011-06-16 20:17:14\n3  2742737          29 2011-06-16 20:17:16\n4  2742737          30 2011-06-16 20:17:17\n5  2742737          31 2011-06-16 20:17:22\n6  2742737          32 2011-06-16 20:17:24",
      "text/html": "<div>\n<style scoped>\n    .dataframe tbody tr th:only-of-type {\n        vertical-align: middle;\n    }\n\n    .dataframe tbody tr th {\n        vertical-align: top;\n    }\n\n    .dataframe thead th {\n        text-align: right;\n    }\n</style>\n<table border=\"1\" class=\"dataframe\">\n  <thead>\n    <tr style=\"text-align: right;\">\n      <th></th>\n      <th>CaseID</th>\n      <th>ActivityID</th>\n      <th>CompleteTimestamp</th>\n    </tr>\n  </thead>\n  <tbody>\n    <tr>\n      <th>0</th>\n      <td>2742737</td>\n      <td>23</td>\n      <td>2011-06-01 08:00:00</td>\n    </tr>\n    <tr>\n      <th>1</th>\n      <td>2742737</td>\n      <td>25</td>\n      <td>2011-06-16 20:17:11</td>\n    </tr>\n    <tr>\n      <th>2</th>\n      <td>2742737</td>\n      <td>26</td>\n      <td>2011-06-16 20:17:14</td>\n    </tr>\n    <tr>\n      <th>3</th>\n      <td>2742737</td>\n      <td>29</td>\n      <td>2011-06-16 20:17:16</td>\n    </tr>\n    <tr>\n      <th>4</th>\n      <td>2742737</td>\n      <td>30</td>\n      <td>2011-06-16 20:17:17</td>\n    </tr>\n    <tr>\n      <th>5</th>\n      <td>2742737</td>\n      <td>31</td>\n      <td>2011-06-16 20:17:22</td>\n    </tr>\n    <tr>\n      <th>6</th>\n      <td>2742737</td>\n      <td>32</td>\n      <td>2011-06-16 20:17:24</td>\n    </tr>\n  </tbody>\n</table>\n</div>"
     },
     "execution_count": 11,
     "metadata": {},
     "output_type": "execute_result"
    }
   ],
   "source": [
    "# Get the list of chunks\n",
    "chunks = pd.read_csv(orchestrator.input_path, chunksize=input_chunk_size, parse_dates=orchestrator.dates_ids)\n",
    "# Create all preliminary data before the chunks are processed\n",
    "id_column = orchestrator.column_names[0]\n",
    "for og_chunk in chunks:\n",
    "    complete_cases, case_ids, previous_case, previous_case_id = \\\n",
    "                    get_complete_cases(og_chunk, id_column, True, False, None, \"\")\n",
    "    case = complete_cases[0]\n",
    "    break\n",
    "case"
   ]
  },
  {
   "cell_type": "markdown",
   "metadata": {
    "collapsed": false,
    "pycharm": {
     "name": "#%% md\n"
    }
   },
   "source": [
    "Now, the orchestrator calls the editor manager to edit the case, i.e. add a Start of State and an End of State. To do so, the manager calls an editor after the other:"
   ]
  },
  {
   "cell_type": "code",
   "execution_count": null,
   "metadata": {
    "collapsed": false,
    "pycharm": {
     "name": "#%%\n"
    }
   },
   "outputs": [
    {
     "data": {
      "text/plain": "    CaseID ActivityID   CompleteTimestamp\n0  2742737        SoS 2011-06-01 08:00:00\n1  2742737         23 2011-06-01 08:00:00\n2  2742737         25 2011-06-16 20:17:11\n3  2742737         26 2011-06-16 20:17:14\n4  2742737         29 2011-06-16 20:17:16\n5  2742737         30 2011-06-16 20:17:17\n6  2742737         31 2011-06-16 20:17:22\n7  2742737         32 2011-06-16 20:17:24\n8  2742737        EoS 2011-06-16 20:17:24",
      "text/html": "<div>\n<style scoped>\n    .dataframe tbody tr th:only-of-type {\n        vertical-align: middle;\n    }\n\n    .dataframe tbody tr th {\n        vertical-align: top;\n    }\n\n    .dataframe thead th {\n        text-align: right;\n    }\n</style>\n<table border=\"1\" class=\"dataframe\">\n  <thead>\n    <tr style=\"text-align: right;\">\n      <th></th>\n      <th>CaseID</th>\n      <th>ActivityID</th>\n      <th>CompleteTimestamp</th>\n    </tr>\n  </thead>\n  <tbody>\n    <tr>\n      <th>0</th>\n      <td>2742737</td>\n      <td>SoS</td>\n      <td>2011-06-01 08:00:00</td>\n    </tr>\n    <tr>\n      <th>1</th>\n      <td>2742737</td>\n      <td>23</td>\n      <td>2011-06-01 08:00:00</td>\n    </tr>\n    <tr>\n      <th>2</th>\n      <td>2742737</td>\n      <td>25</td>\n      <td>2011-06-16 20:17:11</td>\n    </tr>\n    <tr>\n      <th>3</th>\n      <td>2742737</td>\n      <td>26</td>\n      <td>2011-06-16 20:17:14</td>\n    </tr>\n    <tr>\n      <th>4</th>\n      <td>2742737</td>\n      <td>29</td>\n      <td>2011-06-16 20:17:16</td>\n    </tr>\n    <tr>\n      <th>5</th>\n      <td>2742737</td>\n      <td>30</td>\n      <td>2011-06-16 20:17:17</td>\n    </tr>\n    <tr>\n      <th>6</th>\n      <td>2742737</td>\n      <td>31</td>\n      <td>2011-06-16 20:17:22</td>\n    </tr>\n    <tr>\n      <th>7</th>\n      <td>2742737</td>\n      <td>32</td>\n      <td>2011-06-16 20:17:24</td>\n    </tr>\n    <tr>\n      <th>8</th>\n      <td>2742737</td>\n      <td>EoS</td>\n      <td>2011-06-16 20:17:24</td>\n    </tr>\n  </tbody>\n</table>\n</div>"
     },
     "execution_count": 12,
     "metadata": {},
     "output_type": "execute_result"
    }
   ],
   "source": [
    "np_case = case.to_numpy()\n",
    "edited_case = orchestrator.editor_manager.edit_case(np_case, orchestrator)\n",
    "pd.DataFrame(edited_case, columns=orchestrator.column_names)"
   ]
  },
  {
   "cell_type": "markdown",
   "metadata": {
    "collapsed": false,
    "pycharm": {
     "name": "#%% md\n"
    }
   },
   "source": [
    "The case has been edited, it can now be encoded by the encoder manager, that calls every encoders and merges their results:"
   ]
  },
  {
   "cell_type": "code",
   "execution_count": null,
   "metadata": {
    "collapsed": false,
    "pycharm": {
     "name": "#%%\n"
    }
   },
   "outputs": [
    {
     "data": {
      "text/plain": "   EoS  SoS    1   10  100  101  102  103  104  105  ...   91   92   93   94  \\\n0  0.0  1.0  0.0  0.0  0.0  0.0  0.0  0.0  0.0  0.0  ...  0.0  0.0  0.0  0.0   \n1  0.0  0.0  0.0  0.0  0.0  0.0  0.0  0.0  0.0  0.0  ...  0.0  0.0  0.0  0.0   \n2  0.0  0.0  0.0  0.0  0.0  0.0  0.0  0.0  0.0  0.0  ...  0.0  0.0  0.0  0.0   \n3  0.0  0.0  0.0  0.0  0.0  0.0  0.0  0.0  0.0  0.0  ...  0.0  0.0  0.0  0.0   \n4  0.0  0.0  0.0  0.0  0.0  0.0  0.0  0.0  0.0  0.0  ...  0.0  0.0  0.0  0.0   \n5  0.0  0.0  0.0  0.0  0.0  0.0  0.0  0.0  0.0  0.0  ...  0.0  0.0  0.0  0.0   \n6  0.0  0.0  0.0  0.0  0.0  0.0  0.0  0.0  0.0  0.0  ...  0.0  0.0  0.0  0.0   \n7  0.0  0.0  0.0  0.0  0.0  0.0  0.0  0.0  0.0  0.0  ...  0.0  0.0  0.0  0.0   \n8  1.0  0.0  0.0  0.0  0.0  0.0  0.0  0.0  0.0  0.0  ...  0.0  0.0  0.0  0.0   \n\n    95   96   97   98   99     Time_diff  \n0  0.0  0.0  0.0  0.0  0.0  0.000000e+00  \n1  0.0  0.0  0.0  0.0  0.0  0.000000e+00  \n2  0.0  0.0  0.0  0.0  0.0  2.147859e-02  \n3  0.0  0.0  0.0  0.0  0.0  4.807811e-08  \n4  0.0  0.0  0.0  0.0  0.0  3.205207e-08  \n5  0.0  0.0  0.0  0.0  0.0  1.602604e-08  \n6  0.0  0.0  0.0  0.0  0.0  8.013018e-08  \n7  0.0  0.0  0.0  0.0  0.0  3.205207e-08  \n8  0.0  0.0  0.0  0.0  0.0  0.000000e+00  \n\n[9 rows x 384 columns]",
      "text/html": "<div>\n<style scoped>\n    .dataframe tbody tr th:only-of-type {\n        vertical-align: middle;\n    }\n\n    .dataframe tbody tr th {\n        vertical-align: top;\n    }\n\n    .dataframe thead th {\n        text-align: right;\n    }\n</style>\n<table border=\"1\" class=\"dataframe\">\n  <thead>\n    <tr style=\"text-align: right;\">\n      <th></th>\n      <th>EoS</th>\n      <th>SoS</th>\n      <th>1</th>\n      <th>10</th>\n      <th>100</th>\n      <th>101</th>\n      <th>102</th>\n      <th>103</th>\n      <th>104</th>\n      <th>105</th>\n      <th>...</th>\n      <th>91</th>\n      <th>92</th>\n      <th>93</th>\n      <th>94</th>\n      <th>95</th>\n      <th>96</th>\n      <th>97</th>\n      <th>98</th>\n      <th>99</th>\n      <th>Time_diff</th>\n    </tr>\n  </thead>\n  <tbody>\n    <tr>\n      <th>0</th>\n      <td>0.0</td>\n      <td>1.0</td>\n      <td>0.0</td>\n      <td>0.0</td>\n      <td>0.0</td>\n      <td>0.0</td>\n      <td>0.0</td>\n      <td>0.0</td>\n      <td>0.0</td>\n      <td>0.0</td>\n      <td>...</td>\n      <td>0.0</td>\n      <td>0.0</td>\n      <td>0.0</td>\n      <td>0.0</td>\n      <td>0.0</td>\n      <td>0.0</td>\n      <td>0.0</td>\n      <td>0.0</td>\n      <td>0.0</td>\n      <td>0.000000e+00</td>\n    </tr>\n    <tr>\n      <th>1</th>\n      <td>0.0</td>\n      <td>0.0</td>\n      <td>0.0</td>\n      <td>0.0</td>\n      <td>0.0</td>\n      <td>0.0</td>\n      <td>0.0</td>\n      <td>0.0</td>\n      <td>0.0</td>\n      <td>0.0</td>\n      <td>...</td>\n      <td>0.0</td>\n      <td>0.0</td>\n      <td>0.0</td>\n      <td>0.0</td>\n      <td>0.0</td>\n      <td>0.0</td>\n      <td>0.0</td>\n      <td>0.0</td>\n      <td>0.0</td>\n      <td>0.000000e+00</td>\n    </tr>\n    <tr>\n      <th>2</th>\n      <td>0.0</td>\n      <td>0.0</td>\n      <td>0.0</td>\n      <td>0.0</td>\n      <td>0.0</td>\n      <td>0.0</td>\n      <td>0.0</td>\n      <td>0.0</td>\n      <td>0.0</td>\n      <td>0.0</td>\n      <td>...</td>\n      <td>0.0</td>\n      <td>0.0</td>\n      <td>0.0</td>\n      <td>0.0</td>\n      <td>0.0</td>\n      <td>0.0</td>\n      <td>0.0</td>\n      <td>0.0</td>\n      <td>0.0</td>\n      <td>2.147859e-02</td>\n    </tr>\n    <tr>\n      <th>3</th>\n      <td>0.0</td>\n      <td>0.0</td>\n      <td>0.0</td>\n      <td>0.0</td>\n      <td>0.0</td>\n      <td>0.0</td>\n      <td>0.0</td>\n      <td>0.0</td>\n      <td>0.0</td>\n      <td>0.0</td>\n      <td>...</td>\n      <td>0.0</td>\n      <td>0.0</td>\n      <td>0.0</td>\n      <td>0.0</td>\n      <td>0.0</td>\n      <td>0.0</td>\n      <td>0.0</td>\n      <td>0.0</td>\n      <td>0.0</td>\n      <td>4.807811e-08</td>\n    </tr>\n    <tr>\n      <th>4</th>\n      <td>0.0</td>\n      <td>0.0</td>\n      <td>0.0</td>\n      <td>0.0</td>\n      <td>0.0</td>\n      <td>0.0</td>\n      <td>0.0</td>\n      <td>0.0</td>\n      <td>0.0</td>\n      <td>0.0</td>\n      <td>...</td>\n      <td>0.0</td>\n      <td>0.0</td>\n      <td>0.0</td>\n      <td>0.0</td>\n      <td>0.0</td>\n      <td>0.0</td>\n      <td>0.0</td>\n      <td>0.0</td>\n      <td>0.0</td>\n      <td>3.205207e-08</td>\n    </tr>\n    <tr>\n      <th>5</th>\n      <td>0.0</td>\n      <td>0.0</td>\n      <td>0.0</td>\n      <td>0.0</td>\n      <td>0.0</td>\n      <td>0.0</td>\n      <td>0.0</td>\n      <td>0.0</td>\n      <td>0.0</td>\n      <td>0.0</td>\n      <td>...</td>\n      <td>0.0</td>\n      <td>0.0</td>\n      <td>0.0</td>\n      <td>0.0</td>\n      <td>0.0</td>\n      <td>0.0</td>\n      <td>0.0</td>\n      <td>0.0</td>\n      <td>0.0</td>\n      <td>1.602604e-08</td>\n    </tr>\n    <tr>\n      <th>6</th>\n      <td>0.0</td>\n      <td>0.0</td>\n      <td>0.0</td>\n      <td>0.0</td>\n      <td>0.0</td>\n      <td>0.0</td>\n      <td>0.0</td>\n      <td>0.0</td>\n      <td>0.0</td>\n      <td>0.0</td>\n      <td>...</td>\n      <td>0.0</td>\n      <td>0.0</td>\n      <td>0.0</td>\n      <td>0.0</td>\n      <td>0.0</td>\n      <td>0.0</td>\n      <td>0.0</td>\n      <td>0.0</td>\n      <td>0.0</td>\n      <td>8.013018e-08</td>\n    </tr>\n    <tr>\n      <th>7</th>\n      <td>0.0</td>\n      <td>0.0</td>\n      <td>0.0</td>\n      <td>0.0</td>\n      <td>0.0</td>\n      <td>0.0</td>\n      <td>0.0</td>\n      <td>0.0</td>\n      <td>0.0</td>\n      <td>0.0</td>\n      <td>...</td>\n      <td>0.0</td>\n      <td>0.0</td>\n      <td>0.0</td>\n      <td>0.0</td>\n      <td>0.0</td>\n      <td>0.0</td>\n      <td>0.0</td>\n      <td>0.0</td>\n      <td>0.0</td>\n      <td>3.205207e-08</td>\n    </tr>\n    <tr>\n      <th>8</th>\n      <td>1.0</td>\n      <td>0.0</td>\n      <td>0.0</td>\n      <td>0.0</td>\n      <td>0.0</td>\n      <td>0.0</td>\n      <td>0.0</td>\n      <td>0.0</td>\n      <td>0.0</td>\n      <td>0.0</td>\n      <td>...</td>\n      <td>0.0</td>\n      <td>0.0</td>\n      <td>0.0</td>\n      <td>0.0</td>\n      <td>0.0</td>\n      <td>0.0</td>\n      <td>0.0</td>\n      <td>0.0</td>\n      <td>0.0</td>\n      <td>0.000000e+00</td>\n    </tr>\n  </tbody>\n</table>\n<p>9 rows × 384 columns</p>\n</div>"
     },
     "execution_count": 13,
     "metadata": {},
     "output_type": "execute_result"
    }
   ],
   "source": [
    "encoded_case = orchestrator.encoder_manager.encode_case(edited_case)\n",
    "pd.DataFrame(encoded_case, columns=orchestrator.encoder_manager.all_output_column_names)"
   ]
  },
  {
   "cell_type": "markdown",
   "metadata": {
    "collapsed": false,
    "pycharm": {
     "name": "#%% md\n"
    }
   },
   "source": [
    "We can see the result of the one-hot encoder on activities, concatenated with the time difference encoder. The case id has been deleted."
   ]
  },
  {
   "cell_type": "markdown",
   "metadata": {
    "collapsed": false,
    "pycharm": {
     "name": "#%% md\n"
    }
   },
   "source": [
    "Every encoder can leave a **leftover**, i.e. a data that has been lost during the encoding. As we will see after, it is necessary for decoding and get back the original data.\n",
    "\n",
    "Two encoders out of three leaves a leftover:\n",
    "* The delete encoder leaves the case id that has been deleted (here \"2\"),\n",
    "* The time difference encoder leaves the first date of the case (here \"2012-04-03 16:55:38\"). For decoding, the time difference will help to get the original dates of the case."
   ]
  },
  {
   "cell_type": "code",
   "execution_count": null,
   "metadata": {
    "collapsed": false,
    "pycharm": {
     "name": "#%%\n"
    }
   },
   "outputs": [
    {
     "data": {
      "text/plain": "[2742737, Timestamp('2011-06-01 08:00:00')]"
     },
     "execution_count": 14,
     "metadata": {},
     "output_type": "execute_result"
    }
   ],
   "source": [
    "leftover = orchestrator.encoder_manager.get_leftover(edited_case)\n",
    "leftover.tolist()"
   ]
  },
  {
   "cell_type": "markdown",
   "metadata": {
    "collapsed": false,
    "pycharm": {
     "name": "#%% md\n"
    }
   },
   "source": [
    "This framework makes it possible to automatically decode this encoded data, to interpret the results. To do so, decoders are created. Here, they are created automatically according to the encoders that were built."
   ]
  },
  {
   "cell_type": "code",
   "execution_count": null,
   "metadata": {
    "collapsed": false,
    "pycharm": {
     "name": "#%%\n"
    }
   },
   "outputs": [],
   "source": [
    "decoder_manager = create_all_decoders(orchestrator)\n",
    "decoder_manager.get_all_encoders_description_df()\n",
    "decoder_manager.set_all_output_column_names()"
   ]
  },
  {
   "cell_type": "markdown",
   "metadata": {
    "collapsed": false,
    "pycharm": {
     "name": "#%% md\n"
    }
   },
   "source": [
    "Once the decoders are built, we assign to them the leftovers that were generated before:"
   ]
  },
  {
   "cell_type": "code",
   "execution_count": null,
   "metadata": {
    "collapsed": false,
    "pycharm": {
     "name": "#%%\n"
    }
   },
   "outputs": [],
   "source": [
    "decoder_manager.encoders[0].set_leftover([leftover[0]])\n",
    "decoder_manager.encoders[2].set_leftover([leftover[1]])"
   ]
  },
  {
   "cell_type": "markdown",
   "metadata": {
    "collapsed": false,
    "pycharm": {
     "name": "#%% md\n"
    }
   },
   "source": [
    "And we can run them to get the original data:"
   ]
  },
  {
   "cell_type": "code",
   "execution_count": null,
   "metadata": {
    "collapsed": false,
    "pycharm": {
     "name": "#%%\n"
    }
   },
   "outputs": [],
   "source": [
    "decoded_case = decoder_manager.encode_case(encoded_case)\n",
    "#pd.DataFrame(data=decoded_case, columns=decoder_manager.all_output_column_names)"
   ]
  },
  {
   "cell_type": "markdown",
   "metadata": {
    "collapsed": false,
    "pycharm": {
     "name": "#%% md\n"
    }
   },
   "source": [
    "The case can now be edited into prefixes and suffixes, as in this example:"
   ]
  },
  {
   "cell_type": "code",
   "execution_count": null,
   "metadata": {
    "collapsed": false,
    "pycharm": {
     "name": "#%%\n"
    }
   },
   "outputs": [],
   "source": [
    "preparator = SlicerLSTM()\n",
    "preparator.build(input_chunk_size, output_chunk_size, batch_size, orchestrator)\n",
    "result = next(preparator.run_online())\n",
    "prefix = result[0][3]\n",
    "suffix = result[1][3]"
   ]
  },
  {
   "cell_type": "markdown",
   "metadata": {
    "collapsed": false,
    "pycharm": {
     "name": "#%% md\n"
    }
   },
   "source": [
    "Which makes this the input of the neural network. You can see the original values in the end of the table:"
   ]
  },
  {
   "cell_type": "code",
   "execution_count": null,
   "metadata": {
    "collapsed": false,
    "pycharm": {
     "name": "#%%\n"
    }
   },
   "outputs": [
    {
     "data": {
      "text/plain": "array([[0.00000000e+00, 0.00000000e+00, 0.00000000e+00, ...,\n        0.00000000e+00, 0.00000000e+00, 0.00000000e+00],\n       [0.00000000e+00, 0.00000000e+00, 0.00000000e+00, ...,\n        0.00000000e+00, 0.00000000e+00, 0.00000000e+00],\n       [0.00000000e+00, 0.00000000e+00, 0.00000000e+00, ...,\n        0.00000000e+00, 0.00000000e+00, 0.00000000e+00],\n       ...,\n       [0.00000000e+00, 0.00000000e+00, 0.00000000e+00, ...,\n        0.00000000e+00, 0.00000000e+00, 0.00000000e+00],\n       [0.00000000e+00, 0.00000000e+00, 0.00000000e+00, ...,\n        0.00000000e+00, 0.00000000e+00, 2.14785899e-02],\n       [0.00000000e+00, 0.00000000e+00, 0.00000000e+00, ...,\n        0.00000000e+00, 0.00000000e+00, 4.80781073e-08]])"
     },
     "execution_count": 19,
     "metadata": {},
     "output_type": "execute_result"
    }
   ],
   "source": [
    "prefix"
   ]
  },
  {
   "cell_type": "markdown",
   "metadata": {
    "collapsed": false,
    "pycharm": {
     "name": "#%% md\n"
    }
   },
   "source": [
    "And this the expected output of this example:"
   ]
  },
  {
   "cell_type": "code",
   "execution_count": null,
   "metadata": {
    "collapsed": false,
    "pycharm": {
     "name": "#%%\n"
    }
   },
   "outputs": [
    {
     "data": {
      "text/plain": "array([0., 0., 0., 0., 0., 0., 0., 0., 0., 0., 0., 0., 0., 0., 0., 0., 0.,\n       0., 0., 0., 0., 0., 0., 0., 0., 0., 0., 0., 0., 0., 0., 0., 0., 0.,\n       0., 0., 0., 0., 0., 0., 0., 0., 0., 0., 0., 0., 0., 0., 0., 0., 0.,\n       0., 0., 0., 0., 0., 0., 0., 0., 0., 0., 0., 0., 0., 0., 0., 0., 0.,\n       0., 0., 0., 0., 0., 0., 0., 0., 0., 0., 0., 0., 0., 0., 0., 0., 0.,\n       0., 0., 0., 0., 0., 0., 0., 0., 0., 0., 0., 0., 0., 0., 0., 0., 0.,\n       0., 0., 0., 0., 0., 0., 0., 0., 0., 0., 0., 0., 0., 0., 0., 0., 0.,\n       0., 0., 0., 0., 0., 0., 0., 0., 0., 0., 0., 0., 0., 0., 0., 0., 0.,\n       0., 0., 0., 0., 0., 0., 0., 0., 0., 0., 0., 0., 0., 0., 0., 0., 0.,\n       0., 0., 0., 0., 0., 0., 0., 0., 0., 0., 0., 0., 0., 0., 0., 0., 0.,\n       0., 0., 0., 0., 0., 0., 0., 0., 0., 0., 0., 0., 0., 0., 0., 0., 0.,\n       0., 0., 0., 0., 0., 0., 0., 0., 0., 0., 0., 0., 0., 0., 0., 0., 0.,\n       0., 0., 0., 0., 0., 0., 0., 0., 0., 1., 0., 0., 0., 0., 0., 0., 0.,\n       0., 0., 0., 0., 0., 0., 0., 0., 0., 0., 0., 0., 0., 0., 0., 0., 0.,\n       0., 0., 0., 0., 0., 0., 0., 0., 0., 0., 0., 0., 0., 0., 0., 0., 0.,\n       0., 0., 0., 0., 0., 0., 0., 0., 0., 0., 0., 0., 0., 0., 0., 0., 0.,\n       0., 0., 0., 0., 0., 0., 0., 0., 0., 0., 0., 0., 0., 0., 0., 0., 0.,\n       0., 0., 0., 0., 0., 0., 0., 0., 0., 0., 0., 0., 0., 0., 0., 0., 0.,\n       0., 0., 0., 0., 0., 0., 0., 0., 0., 0., 0., 0., 0., 0., 0., 0., 0.,\n       0., 0., 0., 0., 0., 0., 0., 0., 0., 0., 0., 0., 0., 0., 0., 0., 0.,\n       0., 0., 0., 0., 0., 0., 0., 0., 0., 0., 0., 0., 0., 0., 0., 0., 0.,\n       0., 0., 0., 0., 0., 0., 0., 0., 0., 0., 0., 0., 0., 0., 0., 0., 0.,\n       0., 0., 0., 0., 0., 0., 0., 0., 0.])"
     },
     "execution_count": 20,
     "metadata": {},
     "output_type": "execute_result"
    }
   ],
   "source": [
    "suffix"
   ]
  },
  {
   "cell_type": "markdown",
   "metadata": {
    "collapsed": false,
    "pycharm": {
     "name": "#%% md\n"
    }
   },
   "source": [
    "Now, you have seen the inner workings of the framework. You can tinker with the configuration, and observe the \"main.py\" file. you can also run code by yourself, as in this example..."
   ]
  },
  {
   "cell_type": "code",
   "execution_count": null,
   "metadata": {
    "collapsed": false,
    "pycharm": {
     "name": "#%%\n"
    }
   },
   "outputs": [],
   "source": [
    "create_directories(orchestrator.output_name)\n",
    "orchestrator.process_online(input_chunk_size)\n",
    "preparator = SlicerLSTM()\n",
    "preparator.build(input_chunk_size, output_chunk_size, batch_size, orchestrator)\n",
    "preparator.run_online()\n",
    "lstm_trainer = LSTMTrainer()\n",
    "lstm_trainer.build(preparator, epoch_counter)"
   ]
  },
  {
   "cell_type": "markdown",
   "metadata": {
    "collapsed": false,
    "pycharm": {
     "name": "#%% md\n"
    }
   },
   "source": [
    "... and train the model!"
   ]
  },
  {
   "cell_type": "code",
   "execution_count": null,
   "metadata": {
    "collapsed": false,
    "pycharm": {
     "name": "#%%\n"
    }
   },
   "outputs": [
    {
     "name": "stdout",
     "output_type": "stream",
     "text": [
      "Build model...\n",
      "39881 cases\n",
      "Epoch 1/5\n"
     ]
    },
    {
     "name": "stderr",
     "output_type": "stream",
     "text": [
      "2022-07-04 16:45:37.446162: W tensorflow/core/platform/profile_utils/cpu_utils.cc:128] Failed to get CPU frequency: 0 Hz\n"
     ]
    },
    {
     "name": "stdout",
     "output_type": "stream",
     "text": [
      "  33/1247 [..............................] - ETA: 2:09 - loss: 4.2293"
     ]
    },
    {
     "name": "stderr",
     "output_type": "stream",
     "text": [
      "\n",
      "KeyboardInterrupt\n",
      "\n"
     ]
    }
   ],
   "source": [
    "model = lstm_trainer.train_model_online()"
   ]
  },
  {
   "cell_type": "markdown",
   "metadata": {
    "collapsed": false,
    "pycharm": {
     "name": "#%% md\n"
    }
   },
   "source": [
    "You can see all the results in the \"Output/env_permit\" folder, as well as the encoded, decoded data, description of the input file and the model that has been trained."
   ]
  }
 ],
 "metadata": {
  "kernelspec": {
   "display_name": "Python 3",
   "language": "python",
   "name": "python3"
  },
  "language_info": {
   "codemirror_mode": {
    "name": "ipython",
    "version": 2
   },
   "file_extension": ".py",
   "mimetype": "text/x-python",
   "name": "python",
   "nbconvert_exporter": "python",
   "pygments_lexer": "ipython2",
   "version": "2.7.6"
  }
 },
 "nbformat": 4,
 "nbformat_minor": 0
}